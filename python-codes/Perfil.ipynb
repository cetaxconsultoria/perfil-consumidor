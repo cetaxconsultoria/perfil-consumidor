{
 "cells": [
  {
   "cell_type": "markdown",
   "metadata": {},
   "source": [
    "<b><font size=5><p align='center'>Perfil Consumidor - CETAX Consultoria</p></font></b><br><br>"
   ]
  },
  {
   "cell_type": "markdown",
   "metadata": {},
   "source": [
    "<b><font size=4>Importando as bibliotecas</font></b><br>"
   ]
  },
  {
   "cell_type": "code",
   "execution_count": 1,
   "metadata": {
    "collapsed": true
   },
   "outputs": [],
   "source": [
    "import numpy as np\n",
    "import matplotlib.pyplot as plt\n",
    "import pandas as pd\n",
    "import re\n",
    "from fbprophet import Prophet\n",
    "import seaborn as sns\n",
    "from sklearn.preprocessing import StandardScaler\n",
    "from sklearn.decomposition import PCA\n",
    "from sklearn.cluster import KMeans\n",
    "import googlemaps\n",
    "import time\n",
    "import pickle"
   ]
  },
  {
   "cell_type": "markdown",
   "metadata": {},
   "source": [
    "<b><font size=4>Função distance</font></b><br>\n",
    "<p align=\"justify\">Função para acessar o API do Google MAPS e retirar a distância em metros entre dois endereços distintos.</p>"
   ]
  },
  {
   "cell_type": "code",
   "execution_count": 3,
   "metadata": {},
   "outputs": [],
   "source": [
    "gmaps = googlemaps.Client(key='DIGITE A SUA KEY')\n",
    "def distance(origem, destino):  \n",
    "    distance_result = gmaps.distance_matrix(origins=origem,\n",
    "                                        destinations=destino,\n",
    "                                        mode='walking', units='metric')\n",
    "    if (distance_result['rows'][0]['elements'][0]['status'] == 'NOT_FOUND'):\n",
    "        return 0\n",
    "    else:\n",
    "        return distance_result['rows'][0]['elements'][0]['distance']['value']"
   ]
  },
  {
   "cell_type": "markdown",
   "metadata": {},
   "source": [
    "<b><font size=4>Pre-Processing the Dataset</font></b><br>\n",
    "<p align=\"justify\">Tratamento inicial do dataset, onde será retirado dados de clientes duplicados, calcular a idade dos clientes a partir da data de nascimento, retirar variáveis que possuem mais de 50% dos dados incompletos(NaN), variáveis de data e também variáveis que possuem o mesmo valor para mais de 75% dos dados.</p>"
   ]
  },
  {
   "cell_type": "code",
   "execution_count": 5,
   "metadata": {
    "collapsed": true
   },
   "outputs": [],
   "source": [
    "# Importando o dataset\n",
    "dataset = pd.read_excel('regs.xlsx')\n",
    "\n",
    "# Retirando dados duplicados\n",
    "dataset.drop_duplicates(subset='SKASSOCIADO', inplace=True)\n",
    "dataset.drop_duplicates(inplace=True)\n",
    "\n",
    "# Tratando idade a partir da data de nascimento\n",
    "idade = pd.DataFrame()\n",
    "idade['Data'] = dataset.DTNASCTL\n",
    "idade['Ano'] = idade.Data.replace('.*/.*/(.*)', value=r'\\1', regex=True).astype(int)\n",
    "idade['Idade'] = 117 - idade.Ano\n",
    "\n",
    "# Retirando variáveis com mais de 50% dos dados incompletos\n",
    "for var in dataset:\n",
    "    if(dataset[var].isnull().sum() + len(dataset[var].loc[dataset[var].astype(str) == ' ']) > 3000):\n",
    "        dataset.drop(var, axis=1, inplace=True)\n",
    "\n",
    "\n",
    "# Retirando variaveis onde mais de 75% dos dados possuem mesmo valor\n",
    "for var in dataset:\n",
    "    for i in dataset[var].value_counts():\n",
    "        if(i>4500):\n",
    "            dataset.drop(var, axis=1, inplace=True)\n",
    "    \n",
    "# Retirando variáveis de data\n",
    "for var in dataset:\n",
    "    if (re.match('SKDT', var)):\n",
    "        dataset.drop(var, axis=1, inplace=True)\n",
    "    elif (re.match('DT', var)):\n",
    "        dataset.drop(var, axis=1, inplace=True)\n",
    "        "
   ]
  },
  {
   "cell_type": "markdown",
   "metadata": {},
   "source": [
    "<b><font size=4>Feature Extraction</font></b><br>\n",
    "<p align=\"justify\">Retirando do dataset as features que serão utilizadas na clusterização.</p>"
   ]
  },
  {
   "cell_type": "code",
   "execution_count": 13,
   "metadata": {},
   "outputs": [],
   "source": [
    "# Criando dataframe com as features que serão utilizadas\n",
    "dtrain = pd.DataFrame()\n",
    "dtrain['END_Cliente'] = dataset.NRENDERE.astype(str) + ', ' + dataset.DSENDERE + ', ' + dataset.NMBAIRRO_2+ ', ' + dataset.NMCIDADE_2\n",
    "dtrain['END_Agencia'] = dataset.NRENDCOP.astype(str) + ', ' + dataset.DSENDCOP + ', ' + dataset.NMBAIRRO+ ', ' + dataset.NMCIDADE\n",
    "dtrain['Seguro'] = dataset.DSSEGURO\n",
    "dtrain['ValorSEG'] = dataset.VLPRESEG\n",
    "dtrain['Renda'] = dataset.VL_RENDA_FATANUAL\n",
    "dtrain['Idade'] = idade.Idade\n",
    "\n",
    "# Tratamento da distância entre o endereço do cliente e da agência em que abriu o seguro\n",
    "\n",
    "''' USO DO API DO GOOGLE MAPS PARA PEGAR A DISTANCIA ENTRE OS ENDEREÇOS,\n",
    "    APÓS A PRIMEIRA EXTRAÇÃO, OS DADOS FORAM GRAVADOS EM UM ARQUIVO PICKLE PARA EVITAR REALIZAR AS MESMAS\n",
    "    REQUISIÇÕES NO API NOVAMENTE\n",
    "    \n",
    "dtrain['Distancia'] = np.ones((5390,1))\n",
    "for i in dtrain.index:\n",
    "    dtrain['Distancia'][d[i]] = distance(origem=dtrain['END_Cliente'][d[i]],destino=dtrain['END_Agencia'][d[i]])\n",
    "\n",
    "output = open('distancia.pickle', 'wb')\n",
    "pickle.dump(dtrain['Distancia'], output)\n",
    "output.close()\n",
    "\n",
    "dtrain.Distancia.loc[dtrain.Distancia == 0] = np.NaN\n",
    "dtrain.Distancia = dtrain.Distancia.fillna(dtrain.Distancia.mean())\n",
    "'''\n",
    "f = open('distancia.pickle', 'rb')\n",
    "dtrain['Distancia'] = pickle.load(f)\n",
    "f.close()\n",
    "\n",
    "dtrain.drop(['END_Cliente','END_Agencia'], axis=1, inplace=True)"
   ]
  },
  {
   "cell_type": "code",
   "execution_count": 14,
   "metadata": {},
   "outputs": [
    {
     "name": "stdout",
     "output_type": "stream",
     "text": [
      "         Seguro  ValorSEG     Renda  Idade  Distancia\n",
      "0          CASA     31.22   3394.49     49     5600.0\n",
      "1          CASA     24.38   6409.31     74     5716.0\n",
      "2          VIDA      9.56   3566.85     25     2155.0\n",
      "4          VIDA     33.14   4370.26     41    56656.0\n",
      "5          CASA     14.31   4000.00     54    54868.0\n",
      "6          CASA     32.45  22000.00     44     6226.0\n",
      "7   PRESTAMISTA      0.00   6320.00     31     5312.0\n",
      "8          VIDA     21.25   5741.40     49     3865.0\n",
      "9          CASA      3.91   1722.75     58    11341.0\n",
      "10         CASA     24.65   1700.00     20    17920.0\n"
     ]
    }
   ],
   "source": [
    "print(dtrain.head(10))"
   ]
  },
  {
   "cell_type": "markdown",
   "metadata": {},
   "source": [
    "<b><font size=4>Separando os dados por tipo de seguro</font></b><br>\n",
    "<p align=\"justify\">Será retirado os dados pelo tipo de seguro de cada cliente, de modo a traçar os perfis dos consumidores de seguro de casa e dos de seguro de vida (prestamistas não pagam seguro, não havendo interesse nesse caso).</p>"
   ]
  },
  {
   "cell_type": "code",
   "execution_count": 26,
   "metadata": {
    "collapsed": true
   },
   "outputs": [],
   "source": [
    "lista = list(dtrain.groupby('Seguro'))\n",
    "train_casa = lista[0][1]\n",
    "train_casa.drop('Seguro', axis=1, inplace=True)\n",
    "train_presta = lista[1][1]\n",
    "train_presta.drop('Seguro', axis=1, inplace=True)\n",
    "train_vida = lista[2][1]\n",
    "train_vida.drop('Seguro', axis=1, inplace=True)"
   ]
  },
  {
   "cell_type": "markdown",
   "metadata": {},
   "source": [
    "<b><font size=4>Clustering via K-Means</font></b><br>\n",
    "<p align=\"justify\">Fase de clusterização, no qual os dados serão normalizados e depois será utilizado o algoritmo do K-Means para a clusterização.</p>"
   ]
  },
  {
   "cell_type": "code",
   "execution_count": 47,
   "metadata": {},
   "outputs": [
    {
     "data": {
      "image/png": "[encoded data removed]",
      "text/plain": [
       "<matplotlib.figure.Figure at 0x7f14dabce400>"
      ]
     },
     "metadata": {},
     "output_type": "display_data"
    }
   ],
   "source": [
    "# Normalizando os dados\n",
    "sc_casa = StandardScaler().fit(train_casa)\n",
    "train_casa = sc_casa.transform(train_casa)\n",
    "sc_vida = StandardScaler().fit(train_vida)\n",
    "train_vida = sc_vida.transform(train_vida)\n",
    "\n",
    "# Using the elbow method to find the optimal number of clusters\n",
    "# Seguro de Casa:\n",
    "fig, (ax1,ax2) = plt.subplots(1,2,figsize=(15,5),sharey=True)\n",
    "wcss_casa = []\n",
    "for i in range(1, 11):\n",
    "    kmeans = KMeans(n_clusters = i, init = 'k-means++', random_state = 42)\n",
    "    kmeans.fit(train_casa)\n",
    "    wcss_casa.append(kmeans.inertia_)\n",
    "ax1.plot(range(1, 11), wcss_casa)\n",
    "ax1.set_title('The Elbow Method - Seguro Casa')\n",
    "ax1.set_xlabel('Number of clusters')\n",
    "ax1.set_ylabel('WCSS')\n",
    "#ax1.show()\n",
    "\n",
    "#Seguro de Vida:\n",
    "wcss_vida = []\n",
    "for i in range(1, 11):\n",
    "    kmeans = KMeans(n_clusters = i, init = 'k-means++', random_state = 42)\n",
    "    kmeans.fit(train_vida)\n",
    "    wcss_vida.append(kmeans.inertia_)\n",
    "ax2.plot(range(1, 11), wcss_vida)\n",
    "ax2.set_title('The Elbow Method - Seguro Vida')\n",
    "ax2.set_xlabel('Number of clusters')\n",
    "ax2.set_ylabel('WCSS')\n",
    "plt.show()"
   ]
  },
  {
   "cell_type": "markdown",
   "metadata": {},
   "source": [
    "<b><font size=3>Seguro de casa:</font></b><br>"
   ]
  },
  {
   "cell_type": "code",
   "execution_count": 48,
   "metadata": {},
   "outputs": [
    {
     "name": "stdout",
     "output_type": "stream",
     "text": [
      "Correlação das variáveis:\n",
      " ValorSEG     0.557115\n",
      "Renda        0.017690\n",
      "Idade        0.299285\n",
      "Distancia    0.021137\n",
      "Grupo        1.000000\n",
      "Name: Grupo, dtype: float64 \n",
      "\n",
      "Total de pessoas por grupo:\n",
      " 0    950\n",
      "2    883\n",
      "4    548\n",
      "1     80\n",
      "3      2\n",
      "Name: Grupo, dtype: int64 \n",
      "\n",
      "Valores médios por grupo:\n",
      "         ValorSEG     Renda     Idade  Distancia\n",
      "Grupo                                          \n",
      "0      -4.329905 -0.200559 -0.416842   0.002643\n",
      "1       8.409326  4.096671  0.112500  -0.058769\n",
      "2      -6.086305 -0.162866  0.468856  -0.077525\n",
      "3       3.519687 -0.038516  0.000000  30.684573\n",
      "4      16.072685  0.012199 -0.016423   0.016928 \n",
      "\n",
      "Erro de desvio por grupo:\n",
      "         ValorSEG     Renda     Idade  Distancia\n",
      "Grupo                                          \n",
      "0       7.203846  0.482350  0.540197   0.492091\n",
      "1      14.498746  2.257195  0.527563   0.371328\n",
      "2       7.073530  0.506510  0.624421   0.241878\n",
      "3      14.964065  0.606763  0.000000   0.010277\n",
      "4       9.239292  0.617718  0.525149   0.717844 \n",
      "\n"
     ]
    }
   ],
   "source": [
    "# Fitting K-Means to the dataset\n",
    "# Seguro de casa:\n",
    "kmeans = KMeans(n_clusters = 5, init = 'k-means++', random_state = 0)\n",
    "resultado = kmeans.fit_predict(train_casa)\n",
    "grupos = pd.DataFrame(data=resultado, columns = {'Grupo': '0'})\n",
    "train_casa = sc_casa.inverse_transform(train_casa)\n",
    "train_casa = pd.DataFrame(data=train_casa, columns=list(train_presta.columns))\n",
    "train_casa = train_casa.join(grupos)\n",
    "train_casa.Idade = train_casa.Idade.astype(int)\n",
    "train_casa.ValorSEG = train_casa.ValorSEG * 12\n",
    "\n",
    "print('Correlação das variáveis:\\n',train_casa.corr().Grupo,'\\n')\n",
    "print('Total de pessoas por grupo:\\n',train_casa.Grupo.value_counts(),'\\n')\n",
    "print('Valores médios por grupo:\\n',train_casa.groupby('Grupo').mean(),'\\n')\n",
    "print('Erro de desvio por grupo:\\n',train_casa.groupby('Grupo').std(),'\\n')\n",
    "# perfil_casa_medio = train_casa.groupby('Grupo').mean()\n",
    "# total_casa = train_casa.Grupo.value_counts()\n",
    "# perfil_casa_medio['TotalSEG'] = total_casa\n",
    "# perfil_casa_medio['Valor_Total'] = perfil_casa_medio['TotalSEG'] * perfil_casa_medio['ValorSEG']\n",
    "# perfil_casa_erro = train_casa.groupby('Grupo').std()"
   ]
  },
  {
   "cell_type": "markdown",
   "metadata": {},
   "source": [
    "<b><font size=3>Seguro de vida:</font></b><br>"
   ]
  },
  {
   "cell_type": "code",
   "execution_count": 49,
   "metadata": {},
   "outputs": [
    {
     "name": "stdout",
     "output_type": "stream",
     "text": [
      "Correlação das variáveis:\n",
      " ValorSEG     0.209142\n",
      "Renda       -0.211754\n",
      "Idade       -0.543408\n",
      "Distancia    0.004516\n",
      "Grupo        1.000000\n",
      "Name: Grupo, dtype: float64 \n",
      "\n",
      "Total de pessoas por grupo:\n",
      " 3    614\n",
      "1    456\n",
      "2    205\n",
      "4     50\n",
      "0     14\n",
      "Name: Grupo, dtype: int64 \n",
      "\n",
      "Valores médios por grupo:\n",
      "         ValorSEG     Renda     Idade  Distancia\n",
      "Grupo                                          \n",
      "0       1.754709  6.304898  0.357143  -0.245747\n",
      "1      -0.774382  0.045016  0.563596  -0.338734\n",
      "2      -1.755755 -0.014488 -0.073171   1.551496\n",
      "3      -2.627037 -0.213017 -0.350163  -0.268551\n",
      "4      46.029664  0.499327 -0.020000   0.094738 \n",
      "\n",
      "Erro de desvio por grupo:\n",
      "         ValorSEG     Renda     Idade  Distancia\n",
      "Grupo                                          \n",
      "0      10.182472  4.984488  0.497245   1.901246\n",
      "1       6.688417  0.652543  0.695600   0.582544\n",
      "2       6.849096  0.571390  0.453215   1.240511\n",
      "3       6.642202  0.413306  0.477410   0.539345\n",
      "4      21.842105  1.041317  0.246610   1.049717 \n",
      "\n"
     ]
    }
   ],
   "source": [
    "# Fitting K-Means to the dataset\n",
    "# Seguro de vida:\n",
    "kmeans = KMeans(n_clusters = 5, init = 'k-means++', random_state = 0)\n",
    "resultado = kmeans.fit_predict(train_vida)\n",
    "grupos = pd.DataFrame(data=resultado, columns = {'Grupo': '0'})\n",
    "train_vida = sc_vida.inverse_transform(train_vida)\n",
    "train_vida = pd.DataFrame(data=train_vida, columns=list(train_presta.columns))\n",
    "train_vida = train_vida.join(grupos)\n",
    "train_vida.Idade = train_vida.Idade.astype(int)\n",
    "train_vida.ValorSEG = train_vida.ValorSEG * 12\n",
    "\n",
    "print('Correlação das variáveis:\\n',train_vida.corr().Grupo,'\\n')\n",
    "print('Total de pessoas por grupo:\\n',train_vida.Grupo.value_counts(),'\\n')\n",
    "print('Valores médios por grupo:\\n',train_vida.groupby('Grupo').mean(),'\\n')\n",
    "print('Erro de desvio por grupo:\\n',train_vida.groupby('Grupo').std(),'\\n')\n",
    "# perfil_vida_medio = train_vida.groupby('Grupo').mean()\n",
    "# total_vida = train_vida.Grupo.value_counts()\n",
    "# perfil_vida_medio['TotalSEG'] = total_vida\n",
    "# perfil_vida_medio['Valor_Total'] = perfil_vida_medio['TotalSEG'] * perfil_vida_medio['ValorSEG']\n",
    "# perfil_vida_erro = train_vida.groupby('Grupo').std()"
   ]
  },
  {
   "cell_type": "code",
   "execution_count": null,
   "metadata": {
    "collapsed": true
   },
   "outputs": [],
   "source": []
  }
 ],
 "metadata": {
  "celltoolbar": "Raw Cell Format",
  "kernelspec": {
   "display_name": "Python 3",
   "language": "python",
   "name": "python3"
  },
  "language_info": {
   "codemirror_mode": {
    "name": "ipython",
    "version": 3
   },
   "file_extension": ".py",
   "mimetype": "text/x-python",
   "name": "python",
   "nbconvert_exporter": "python",
   "pygments_lexer": "ipython3",
   "version": "3.5.3"
  }
 },
 "nbformat": 4,
 "nbformat_minor": 2
}
