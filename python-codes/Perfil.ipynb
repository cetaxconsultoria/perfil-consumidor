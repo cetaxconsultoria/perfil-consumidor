{
 "cells": [
  {
   "cell_type": "markdown",
   "metadata": {},
   "source": [
    "## **Perfil Consumidor - CETAX Consultoria**"
   ]
  },
  {
   "cell_type": "markdown",
   "metadata": {},
   "source": [
    "### Importando as bibliotecas"
   ]
  },
  {
   "cell_type": "code",
   "execution_count": 1,
   "metadata": {
    "collapsed": true
   },
   "outputs": [],
   "source": [
    "import numpy as np\n",
    "import matplotlib.pyplot as plt\n",
    "import pandas as pd\n",
    "import re\n",
    "from fbprophet import Prophet\n",
    "import seaborn as sns\n",
    "from sklearn.preprocessing import StandardScaler\n",
    "from sklearn.decomposition import PCA\n",
    "from sklearn.cluster import KMeans\n",
    "import googlemaps\n",
    "import time\n",
    "import pickle"
   ]
  },
  {
   "cell_type": "markdown",
   "metadata": {},
   "source": [
    "###  Função distance\n",
    "Função para acessar o API do Google MAPS e retirar a distância em metros entre dois endereços distintos."
   ]
  },
  {
   "cell_type": "code",
   "execution_count": 2,
   "metadata": {
    "collapsed": true
   },
   "outputs": [],
   "source": [
    "\"\"\"Function that calculates the distance between origen and destino\n",
    "    Parameters:\n",
    "    -----------\n",
    "    Inputs:\n",
    "        origem (str): \n",
    "        destino (str):\n",
    "    Return:\n",
    "        distance (float): distance between origem and destino, given by the maps API\n",
    "    \"\"\"\n",
    "#gmaps = googlemaps.Client(key='DIGITE A SUA KEY')\n",
    "def distance(origem, destino):  \n",
    "    distance_result = gmaps.distance_matrix(origins=origem,\n",
    "                                        destinations=destino,\n",
    "                                        mode='walking', units='metric')\n",
    "    if (distance_result['rows'][0]['elements'][0]['status'] == 'NOT_FOUND'):\n",
    "        return 0\n",
    "    else:\n",
    "        return distance_result['rows'][0]['elements'][0]['distance']['value']"
   ]
  },
  {
   "cell_type": "markdown",
   "metadata": {},
   "source": [
    "### Pre-Processing the Dataset\n",
    "<p align=\"justify\">Tratamento inicial do dataset, onde será retirado dados de clientes duplicados, calcular a idade dos clientes a partir da data de nascimento, retirar variáveis que possuem mais de 50% dos dados incompletos(NaN), variáveis de data e também variáveis que possuem o mesmo valor para mais de 75% dos dados.</p>"
   ]
  },
  {
   "cell_type": "code",
   "execution_count": 3,
   "metadata": {
    "collapsed": true
   },
   "outputs": [],
   "source": [
    "# Importando o dataset\n",
    "dataset = pd.read_excel('regs.xlsx')\n",
    "\n",
    "# Retirando dados duplicados\n",
    "dataset.drop_duplicates(subset='SKASSOCIADO', inplace=True)\n",
    "dataset.drop_duplicates(inplace=True)\n",
    "\n",
    "# Tratando idade a partir da data de nascimento\n",
    "idade = pd.DataFrame()\n",
    "idade['Data'] = dataset.DTNASCTL\n",
    "idade['Ano'] = idade.Data.replace('.*/.*/(.*)', value=r'\\1', regex=True).astype(int)\n",
    "idade['Idade'] = 117 - idade.Ano\n",
    "\n",
    "# Retirando variáveis com mais de 50% dos dados incompletos\n",
    "for var in dataset:\n",
    "    if(dataset[var].isnull().sum() + len(dataset[var].loc[dataset[var].astype(str) == ' ']) > 3000):\n",
    "        dataset.drop(var, axis=1, inplace=True)\n",
    "\n",
    "\n",
    "# Retirando variaveis onde mais de 75% dos dados possuem mesmo valor\n",
    "for var in dataset:\n",
    "    for i in dataset[var].value_counts():\n",
    "        if(i>4500):\n",
    "            dataset.drop(var, axis=1, inplace=True)\n",
    "    \n",
    "# Retirando variáveis de data\n",
    "for var in dataset:\n",
    "    if (re.match('SKDT', var)):\n",
    "        dataset.drop(var, axis=1, inplace=True)\n",
    "    elif (re.match('DT', var)):\n",
    "        dataset.drop(var, axis=1, inplace=True)\n",
    "        "
   ]
  },
  {
   "cell_type": "markdown",
   "metadata": {},
   "source": [
    "### **Feature Extraction**\n",
    "Retirando do dataset as features que serão utilizadas na clusterização."
   ]
  },
  {
   "cell_type": "code",
   "execution_count": 4,
   "metadata": {
    "collapsed": true
   },
   "outputs": [],
   "source": [
    "# Criando dataframe com as features que serão utilizadas\n",
    "dtrain = pd.DataFrame()\n",
    "dtrain['END_Cliente'] = dataset.NRENDERE.astype(str) + ', ' + dataset.DSENDERE + ', ' + dataset.NMBAIRRO_2+ ', ' + dataset.NMCIDADE_2\n",
    "dtrain['END_Agencia'] = dataset.NRENDCOP.astype(str) + ', ' + dataset.DSENDCOP + ', ' + dataset.NMBAIRRO+ ', ' + dataset.NMCIDADE\n",
    "dtrain['Seguro'] = dataset.DSSEGURO\n",
    "dtrain['ValorSEG'] = dataset.VLPRESEG\n",
    "dtrain['Renda'] = dataset.VL_RENDA_FATANUAL\n",
    "dtrain['Idade'] = idade.Idade\n",
    "dtrain['GrupoRenda'] = dataset.DSGRUPORENDAFAT\n",
    "\n",
    "# Mapeando renda por grupo\n",
    "renda = dtrain.GrupoRenda.value_counts()\n",
    "for i in range(2,7):\n",
    "    renda[i-2] = i\n",
    "renda[5] = 1\n",
    "renda[6] = 7\n",
    "renda[7] = 0\n",
    "dtrain.GrupoRenda = dtrain.GrupoRenda.map(renda)\n",
    "\n",
    "# Mapeando idade por grupo\n",
    "dtrain['GrupoIdade'] = dtrain.Idade\n",
    "def age_group(idade):\n",
    "    if idade<30:\n",
    "        return 0\n",
    "    elif idade<45:\n",
    "        return 1\n",
    "    elif idade<60:\n",
    "        return 2\n",
    "    elif idade<80:\n",
    "        return 3\n",
    "    else:\n",
    "        return 4\n",
    "dtrain.GrupoIdade = dtrain.GrupoIdade.apply(age_group)\n",
    "\n",
    "# Tratamento da distância entre o endereço do cliente e da agência em que abriu o seguro\n",
    "\n",
    "''' USO DO API DO GOOGLE MAPS PARA PEGAR A DISTANCIA ENTRE OS ENDEREÇOS,\n",
    "    APÓS A PRIMEIRA EXTRAÇÃO, OS DADOS FORAM GRAVADOS EM UM ARQUIVO PICKLE PARA EVITAR REALIZAR AS MESMAS\n",
    "    REQUISIÇÕES NO API NOVAMENTE\n",
    "    \n",
    "dtrain['Distancia'] = np.ones((5390,1))\n",
    "for i in dtrain.index:\n",
    "    dtrain['Distancia'][d[i]] = distance(origem=dtrain['END_Cliente'][d[i]],destino=dtrain['END_Agencia'][d[i]])\n",
    "\n",
    "output = open('distancia.pickle', 'wb')\n",
    "pickle.dump(dtrain['Distancia'], output)\n",
    "output.close()\n",
    "\n",
    "dtrain.Distancia.loc[dtrain.Distancia == 0] = np.NaN\n",
    "dtrain.Distancia = dtrain.Distancia.fillna(dtrain.Distancia.mean())\n",
    "'''\n",
    "f = open('distancia.pickle', 'rb')\n",
    "dtrain['Distancia'] = pickle.load(f)\n",
    "f.close()\n",
    "\n",
    "dtrain.drop(['END_Cliente','END_Agencia','Idade','Renda'], axis=1, inplace=True)"
   ]
  },
  {
   "cell_type": "code",
   "execution_count": 5,
   "metadata": {},
   "outputs": [
    {
     "name": "stdout",
     "output_type": "stream",
     "text": [
      "         Seguro  ValorSEG  GrupoRenda  GrupoIdade  Distancia\n",
      "0          CASA     31.22           4           2     5600.0\n",
      "1          CASA     24.38           5           3     5716.0\n",
      "2          VIDA      9.56           4           0     2155.0\n",
      "4          VIDA     33.14           4           1    56656.0\n",
      "5          CASA     14.31           4           2    54868.0\n",
      "6          CASA     32.45           7           1     6226.0\n",
      "7   PRESTAMISTA      0.00           5           1     5312.0\n",
      "8          VIDA     21.25           5           2     3865.0\n",
      "9          CASA      3.91           2           2    11341.0\n",
      "10         CASA     24.65           2           0    17920.0\n",
      "Seguro         object\n",
      "ValorSEG      float64\n",
      "GrupoRenda      int64\n",
      "GrupoIdade      int64\n",
      "Distancia     float64\n",
      "dtype: object\n"
     ]
    }
   ],
   "source": [
    "print(dtrain.head(10))\n",
    "print(dtrain.dtypes)"
   ]
  },
  {
   "cell_type": "markdown",
   "metadata": {},
   "source": [
    "### Separando os dados por tipo de seguro\n",
    "Será retirado os dados pelo tipo de seguro de cada cliente, de modo a traçar os perfis dos consumidores de seguro de casa e dos de seguro de vida (prestamistas não pagam seguro, não havendo interesse nesse caso)."
   ]
  },
  {
   "cell_type": "code",
   "execution_count": 31,
   "metadata": {},
   "outputs": [],
   "source": [
    "lista = list(dtrain.groupby('Seguro'))\n",
    "train_casa = lista[0][1]\n",
    "train_casa.drop('Seguro', axis=1, inplace=True)\n",
    "train_presta = lista[1][1]\n",
    "train_presta.drop('Seguro', axis=1, inplace=True)\n",
    "train_vida = lista[2][1]\n",
    "train_vida.drop('Seguro', axis=1, inplace=True)\n",
    "# outliers\n",
    "train_casa = train_casa.drop([1764,2084,474,1239,3158,3277,4110,4362,5125,5285,5312])"
   ]
  },
  {
   "cell_type": "markdown",
   "metadata": {},
   "source": [
    "### Clustering via K-Means\n",
    "Fase de clusterização, no qual os dados serão normalizados e depois será utilizado o algoritmo do K-Means para a clusterização."
   ]
  },
  {
   "cell_type": "code",
   "execution_count": 32,
   "metadata": {},
   "outputs": [
    {
     "data": {
      "image/png": "[encoded data removed]",
      "text/plain": [
       "<matplotlib.figure.Figure at 0x7f765eaf97b8>"
      ]
     },
     "metadata": {},
     "output_type": "display_data"
    }
   ],
   "source": [
    "# Normalizando os dados\n",
    "sc_casa = StandardScaler().fit(train_casa)\n",
    "train_casa = sc_casa.transform(train_casa)\n",
    "sc_vida = StandardScaler().fit(train_vida)\n",
    "train_vida = sc_vida.transform(train_vida)\n",
    "\n",
    "\n",
    "# Using the elbow method to find the optimal number of clusters\n",
    "# Seguro de Casa:\n",
    "fig, (ax1,ax2) = plt.subplots(1,2,figsize=(15,5),sharey=True)\n",
    "wcss_casa = []\n",
    "for i in range(1, 11):\n",
    "    kmeans = KMeans(n_clusters = i, init = 'k-means++', random_state = 0)\n",
    "    kmeans.fit(train_casa)\n",
    "    wcss_casa.append(kmeans.inertia_)\n",
    "ax1.plot(range(1, 11), wcss_casa)\n",
    "ax1.set_title('The Elbow Method - Seguro Casa')\n",
    "ax1.set_xlabel('Number of clusters')\n",
    "ax1.set_ylabel('WCSS')\n",
    "\n",
    "#Seguro de Vida:\n",
    "wcss_vida = []\n",
    "for i in range(1, 11):\n",
    "    kmeans = KMeans(n_clusters = i, init = 'k-means++', random_state = 0)\n",
    "    kmeans.fit(train_vida)\n",
    "    wcss_vida.append(kmeans.inertia_)\n",
    "ax2.plot(range(1, 11), wcss_vida)\n",
    "ax2.set_title('The Elbow Method - Seguro Vida')\n",
    "ax2.set_xlabel('Number of clusters')\n",
    "ax2.set_ylabel('WCSS')\n",
    "plt.show()"
   ]
  },
  {
   "cell_type": "markdown",
   "metadata": {},
   "source": [
    "### Seguro de casa:"
   ]
  },
  {
   "cell_type": "code",
   "execution_count": 33,
   "metadata": {},
   "outputs": [
    {
     "name": "stdout",
     "output_type": "stream",
     "text": [
      "Correlação das variáveis:\n",
      " ValorSEG     -0.378749\n",
      "GrupoRenda    0.106838\n",
      "GrupoIdade    0.163631\n",
      "Distancia    -0.508013\n",
      "Grupo         1.000000\n",
      "Name: Grupo, dtype: float64 \n",
      "\n",
      "Total de pessoas por grupo:\n",
      " 3    669\n",
      "2    560\n",
      "4    548\n",
      "1    386\n",
      "0    289\n",
      "Name: Grupo, dtype: int64 \n",
      "\n",
      "Valores médios por grupo:\n",
      "          ValorSEG  GrupoRenda  GrupoIdade     Distancia\n",
      "Grupo                                                  \n",
      "0      252.230450    3.643599    1.854671  61242.525952\n",
      "1      565.084352    4.194301    1.637306  21460.599046\n",
      "2      249.665357    2.535714    0.682143  25575.662518\n",
      "3      226.434798    2.550075    2.469357  18992.917513\n",
      "4      203.573212    4.739051    1.706204  18188.377748 \n",
      "\n",
      "Valores medianos por grupo:\n",
      "        ValorSEG  GrupoRenda  GrupoIdade  Distancia\n",
      "Grupo                                             \n",
      "0        231.48         4.0         2.0    57945.0\n",
      "1        494.52         4.0         2.0    18035.5\n",
      "2        267.96         2.5         1.0    29327.0\n",
      "3        197.04         2.0         2.0    15144.0\n",
      "4        178.08         5.0         2.0    14811.0 \n",
      "\n",
      "Erro de desvio por grupo:\n",
      "          ValorSEG  GrupoRenda  GrupoIdade     Distancia\n",
      "Grupo                                                  \n",
      "0      143.201855    1.170070    0.781505  23990.641135\n",
      "1      149.099685    1.076825    0.774970  13478.291397\n",
      "2      131.948541    0.729258    0.466060  13769.201512\n",
      "3      128.954093    0.733677    0.548026  11649.141725\n",
      "4      104.791178    0.762086    0.675639  11295.164973 \n",
      "\n"
     ]
    }
   ],
   "source": [
    "# Fitting K-Means to the dataset\n",
    "# Seguro de casa:\n",
    "kmeans = KMeans(n_clusters = 5, init = 'k-means++', random_state = 0)\n",
    "resultado = kmeans.fit_predict(train_casa)\n",
    "grupos = pd.DataFrame(data=resultado, columns = {'Grupo': '0'})\n",
    "train_casa = sc_casa.inverse_transform(train_casa)\n",
    "train_casa = pd.DataFrame(data=train_casa, columns=list(train_presta.columns))\n",
    "train_casa = train_casa.join(grupos)\n",
    "#train_casa.Idade = train_casa.Idade.astype(int)\n",
    "train_casa.ValorSEG = train_casa.ValorSEG * 12\n",
    "\n",
    "print('Correlação das variáveis:\\n',train_casa.corr().Grupo,'\\n')\n",
    "print('Total de pessoas por grupo:\\n',train_casa.Grupo.value_counts(),'\\n')\n",
    "print('Valores médios por grupo:\\n',train_casa.groupby('Grupo').mean(),'\\n')\n",
    "print('Valores medianos por grupo:\\n',train_casa.groupby('Grupo').median(),'\\n')\n",
    "print('Erro de desvio por grupo:\\n',train_casa.groupby('Grupo').std(),'\\n')\n",
    "# perfil_casa_medio = train_casa.groupby('Grupo').mean()\n",
    "# total_casa = train_casa.Grupo.value_counts()\n",
    "# perfil_casa_medio['TotalSEG'] = total_casa\n",
    "# perfil_casa_medio['Valor_Total'] = perfil_casa_medio['TotalSEG'] * perfil_casa_medio['ValorSEG']\n",
    "# perfil_casa_erro = train_casa.groupby('Grupo').std()"
   ]
  },
  {
   "cell_type": "markdown",
   "metadata": {},
   "source": [
    "### Seguro de vida:"
   ]
  },
  {
   "cell_type": "code",
   "execution_count": 34,
   "metadata": {},
   "outputs": [
    {
     "name": "stdout",
     "output_type": "stream",
     "text": [
      "Correlação das variáveis:\n",
      " ValorSEG      0.350808\n",
      "GrupoRenda    0.429123\n",
      "GrupoIdade   -0.237670\n",
      "Distancia     0.445529\n",
      "Grupo         1.000000\n",
      "Name: Grupo, dtype: float64 \n",
      "\n",
      "Total de pessoas por grupo:\n",
      " 1    623\n",
      "0    246\n",
      "2    243\n",
      "3    188\n",
      "4     39\n",
      "Name: Grupo, dtype: int64 \n",
      "\n",
      "Valores médios por grupo:\n",
      "         ValorSEG  GrupoRenda  GrupoIdade     Distancia\n",
      "Grupo                                                 \n",
      "0      14.887805    2.304878    2.199187  24759.916615\n",
      "1      14.330369    2.319422    0.402889  21687.511019\n",
      "2      16.090658    4.465021    1.621399  23271.567779\n",
      "3      14.885266    2.851064    0.680851  65858.994681\n",
      "4      67.266154    3.743590    0.743590  36223.631126 \n",
      "\n",
      "Valores medianos por grupo:\n",
      "        ValorSEG  GrupoRenda  GrupoIdade    Distancia\n",
      "Grupo                                               \n",
      "0         14.16         2.0         2.0  25776.50000\n",
      "1         14.16         2.0         0.0  22590.00000\n",
      "2         14.16         4.0         2.0  19560.00000\n",
      "3         14.16         3.0         1.0  58799.00000\n",
      "4         63.74         4.0         1.0  31679.77426 \n",
      "\n",
      "Erro de desvio por grupo:\n",
      "         ValorSEG  GrupoRenda  GrupoIdade     Distancia\n",
      "Grupo                                                 \n",
      "0       6.101879    0.639305    0.439108  15012.183016\n",
      "1       7.418093    0.658160    0.490873  12302.338093\n",
      "2       7.034771    0.663240    0.713415  16552.850263\n",
      "3       7.142659    0.864727    0.615534  31387.291248\n",
      "4      21.103146    1.371092    0.548584  24942.620596 \n",
      "\n"
     ]
    }
   ],
   "source": [
    "# Fitting K-Means to the dataset\n",
    "# Seguro de vida:\n",
    "kmeans = KMeans(n_clusters = 5, init = 'k-means++', random_state = 0)\n",
    "resultado = kmeans.fit_predict(train_vida)\n",
    "grupos = pd.DataFrame(data=resultado, columns = {'Grupo': '0'})\n",
    "train_vida = sc_vida.inverse_transform(train_vida)\n",
    "train_vida = pd.DataFrame(data=train_vida, columns=list(train_presta.columns))\n",
    "train_vida = train_vida.join(grupos)\n",
    "#train_vida.Idade = train_vida.Idade.astype(int)\n",
    "\n",
    "print('Correlação das variáveis:\\n',train_vida.corr().Grupo,'\\n')\n",
    "print('Total de pessoas por grupo:\\n',train_vida.Grupo.value_counts(),'\\n')\n",
    "print('Valores médios por grupo:\\n',train_vida.groupby('Grupo').mean(),'\\n')\n",
    "print('Valores medianos por grupo:\\n',train_vida.groupby('Grupo').median(),'\\n')\n",
    "print('Erro de desvio por grupo:\\n',train_vida.groupby('Grupo').std(),'\\n')\n",
    "# perfil_vida_medio = train_vida.groupby('Grupo').mean()\n",
    "# total_vida = train_vida.Grupo.value_counts()\n",
    "# perfil_vida_medio['TotalSEG'] = total_vida\n",
    "# perfil_vida_medio['Valor_Total'] = perfil_vida_medio['TotalSEG'] * perfil_vida_medio['ValorSEG']\n",
    "# perfil_vida_erro = train_vida.groupby('Grupo').std()"
   ]
  },
  {
   "cell_type": "code",
   "execution_count": null,
   "metadata": {
    "collapsed": true
   },
   "outputs": [],
   "source": []
  }
 ],
 "metadata": {
  "celltoolbar": "Raw Cell Format",
  "kernelspec": {
   "display_name": "Python 3",
   "language": "python",
   "name": "python3"
  },
  "language_info": {
   "codemirror_mode": {
    "name": "ipython",
    "version": 3
   },
   "file_extension": ".py",
   "mimetype": "text/x-python",
   "name": "python",
   "nbconvert_exporter": "python",
   "pygments_lexer": "ipython3",
   "version": "3.5.3"
  }
 },
 "nbformat": 4,
 "nbformat_minor": 2
}
