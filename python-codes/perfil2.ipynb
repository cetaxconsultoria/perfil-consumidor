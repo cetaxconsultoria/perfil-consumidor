{
 "cells": [
  {
   "cell_type": "markdown",
   "metadata": {},
   "source": [
    "## **Perfil Consumidor - CETAX Consultoria**"
   ]
  },
  {
   "cell_type": "markdown",
   "metadata": {},
   "source": [
    "### Importando as bibliotecas"
   ]
  },
  {
   "cell_type": "code",
   "execution_count": 1,
   "metadata": {
    "collapsed": true
   },
   "outputs": [],
   "source": [
    "import numpy as np\n",
    "import matplotlib.pyplot as plt\n",
    "import pandas as pd\n",
    "import re\n",
    "from fbprophet import Prophet\n",
    "import seaborn as sns\n",
    "from sklearn.preprocessing import StandardScaler\n",
    "from sklearn.decomposition import PCA\n",
    "from sklearn.cluster import KMeans\n",
    "import googlemaps\n",
    "import time\n",
    "import pickle\n",
    "import seaborn as sns\n",
    "from IPython.display import HTML"
   ]
  },
  {
   "cell_type": "markdown",
   "metadata": {},
   "source": [
    "###  Função distance\n",
    "Função para acessar o API do Google MAPS e retirar a distância em metros entre dois endereços distintos."
   ]
  },
  {
   "cell_type": "code",
   "execution_count": 2,
   "metadata": {
    "collapsed": true
   },
   "outputs": [],
   "source": [
    "#gmaps = googlemaps.Client(key='DIGITE A SUA KEY')\n",
    "def distance(origem, destino):  \n",
    "    \"\"\"Function that calculates the distance between origen and destino\n",
    "    Parameters:\n",
    "    -----------\n",
    "    Inputs:\n",
    "        origem (str): \n",
    "        destino (str):\n",
    "    Return:\n",
    "        distance (float): distance between origem and destino, given by the maps API\n",
    "    \"\"\"\n",
    "    distance_result = gmaps.distance_matrix(origins=origem,\n",
    "                                        destinations=destino,\n",
    "                                        mode='walking', units='metric')\n",
    "    if (distance_result['rows'][0]['elements'][0]['status'] == 'NOT_FOUND'):\n",
    "        return 0\n",
    "    else:\n",
    "        return distance_result['rows'][0]['elements'][0]['distance']['value']"
   ]
  },
  {
   "cell_type": "markdown",
   "metadata": {},
   "source": [
    "### Pre-Processing the Dataset\n",
    "<p align=\"justify\">Tratamento inicial do dataset, onde será retirado dados de clientes duplicados, calcular a idade dos clientes a partir da data de nascimento, retirar variáveis que possuem mais de 50% dos dados incompletos(NaN), variáveis de data e também variáveis que possuem o mesmo valor para mais de 75% dos dados.</p>"
   ]
  },
  {
   "cell_type": "code",
   "execution_count": 3,
   "metadata": {
    "collapsed": true
   },
   "outputs": [],
   "source": [
    "dataset = pd.read_excel('regs.xlsx') # Importando o dataset\n",
    "\n",
    "dataset.drop_duplicates(subset='SKASSOCIADO', inplace=True) # Retirando dados duplicados\n",
    "\n",
    "\n",
    "# Tratando idade a partir da data de nascimento\n",
    "idade = pd.DataFrame()\n",
    "idade['Data'] = dataset.DTNASCTL\n",
    "idade['Ano'] = idade.Data.replace('.*/.*/(.*)', value=r'\\1', regex=True).astype(int)\n",
    "idade['Idade'] = 117 - idade.Ano\n",
    "\n",
    "# Retirando variáveis com mais de 50% dos dados incompletos\n",
    "for var in dataset:\n",
    "    if(dataset[var].isnull().sum() + len(dataset[var].loc[dataset[var].astype(str) == ' ']) > 3000):\n",
    "        dataset.drop(var, axis=1, inplace=True)\n",
    "\n",
    "\n",
    "# Retirando variaveis onde mais de 75% dos dados possuem mesmo valor\n",
    "for var in dataset:\n",
    "    for i in dataset[var].value_counts():\n",
    "        if(i>4500):\n",
    "            dataset.drop(var, axis=1, inplace=True)\n",
    "    \n",
    "# Retirando variáveis de data\n",
    "for var in dataset:\n",
    "    if (re.match('SKDT', var)):\n",
    "        dataset.drop(var, axis=1, inplace=True)\n",
    "    elif (re.match('DT', var)):\n",
    "        dataset.drop(var, axis=1, inplace=True)\n",
    "        "
   ]
  },
  {
   "cell_type": "markdown",
   "metadata": {},
   "source": [
    "### **Feature Extraction**\n",
    "Retirando do dataset as features que serão utilizadas na clusterização."
   ]
  },
  {
   "cell_type": "code",
   "execution_count": 4,
   "metadata": {
    "collapsed": true
   },
   "outputs": [],
   "source": [
    "# Criando dataframe com as features que serão utilizadas\n",
    "dtrain = pd.DataFrame()\n",
    "dtrain['END_Cliente'] = dataset.NRENDERE.astype(str) + ', ' + dataset.DSENDERE + ', ' + dataset.NMBAIRRO_2+ ', ' + dataset.NMCIDADE_2\n",
    "dtrain['END_Agencia'] = dataset.NRENDCOP.astype(str) + ', ' + dataset.DSENDCOP + ', ' + dataset.NMBAIRRO+ ', ' + dataset.NMCIDADE\n",
    "dtrain['Seguro'] = dataset.DSSEGURO\n",
    "dtrain['ValorSEG'] = dataset.VLPRESEG\n",
    "dtrain['Renda'] = dataset.VL_RENDA_FATANUAL\n",
    "dtrain['Idade'] = idade.Idade\n",
    "dtrain['GrupoRenda'] = dataset.DSGRUPORENDAFAT\n",
    "dtrain['Sexo'] = dataset.DSSEXO\n",
    "\n",
    "\n",
    "# Tratamento da distância entre o endereço do cliente e da agência em que abriu o seguro\n",
    "\n",
    "''' USO DO API DO GOOGLE MAPS PARA PEGAR A DISTANCIA ENTRE OS ENDEREÇOS,\n",
    "    APÓS A PRIMEIRA EXTRAÇÃO, OS DADOS FORAM GRAVADOS EM UM ARQUIVO PICKLE PARA EVITAR REALIZAR AS MESMAS\n",
    "    REQUISIÇÕES NO API NOVAMENTE\n",
    "    \n",
    "dtrain['Distancia'] = np.ones((5390,1))\n",
    "for i in dtrain.index:\n",
    "    dtrain['Distancia'][d[i]] = distance(origem=dtrain['END_Cliente'][d[i]],destino=dtrain['END_Agencia'][d[i]])\n",
    "\n",
    "output = open('distancia.pickle', 'wb')\n",
    "pickle.dump(dtrain['Distancia'], output)\n",
    "output.close()\n",
    "\n",
    "dtrain.Distancia.loc[dtrain.Distancia == 0] = np.NaN\n",
    "dtrain.Distancia = dtrain.Distancia.fillna(dtrain.Distancia.mean())\n",
    "'''\n",
    "f = open('distancia.pickle', 'rb')\n",
    "dtrain['Distancia'] = pickle.load(f)\n",
    "f.close()\n",
    "dtrain.Distancia = dtrain.Distancia / 1000\n",
    "\n",
    "# Mapeando renda por grupo\n",
    "# renda = dtrain.GrupoRenda.value_counts()\n",
    "# for i in range(2,7):\n",
    "#     renda[i-2] = i\n",
    "# renda[5] = 1\n",
    "# renda[6] = 7\n",
    "# renda[7] = 0\n",
    "# dtrain.GrupoRenda = dtrain.GrupoRenda.map(renda)\n",
    "\n",
    "def age_group(idade):\n",
    "    \"\"\"Função que agrupa a idade em grupos\n",
    "    Parameters:\n",
    "    -----------\n",
    "    Inputs:\n",
    "        idade (int):\n",
    "    Return:\n",
    "        group (str): grupo em que a idade pertence\n",
    "    \"\"\"\n",
    "    if idade<30:\n",
    "        return 'Entre 18 e 30 anos' # grupo 0, idade menor que 30 anos\n",
    "    elif idade<45:\n",
    "        return 'Entre 30 e 45 anos' # grupo 1, idade entre 30 e 45 anos\n",
    "    elif idade<60:\n",
    "        return 'Entre 45 e 60 anos' # grupo 2, idade entre 45 e 60 anos\n",
    "    elif idade<80:\n",
    "        return 'Entre 60 e 80 anos' # grupo 3, idade entre 60 e 80 anos\n",
    "    else:\n",
    "        return 'Acima de 80 anos'# grupo 4, idade maior que 80 anos\n",
    "\n",
    "def valor_group(valor):\n",
    "    \"\"\"Função que agrupa o valor do seguro em grupos\n",
    "    Parameters:\n",
    "    -----------\n",
    "    Inputs:\n",
    "        idade (int):\n",
    "    Return:\n",
    "        group (str): grupo em que o valor pertence\n",
    "    \"\"\"\n",
    "    if valor<425:\n",
    "        return 'Entre 300,00 reais e 425,00 reais'\n",
    "    elif valor<550:\n",
    "        return 'Entre 425,00 reais e 550,00 reais'\n",
    "    elif valor<675:\n",
    "        return 'Entre 550,00 reais e 675,00 reais'\n",
    "    elif valor<800:\n",
    "        return 'Entre 675,00 reais e 800,00 reais'\n",
    "    else:\n",
    "        return 'Acima de 800,00 reais'\n",
    "\n",
    "# Mapeando idade por grupo\n",
    "dtrain['GrupoIdade'] = dtrain.Idade\n",
    "dtrain.GrupoIdade = dtrain.GrupoIdade.apply(age_group)\n",
    "\n",
    "def dist_group(distancia):\n",
    "    \"\"\"Função que agrupa a distância em grupos\n",
    "    Parameters:\n",
    "    -----------\n",
    "    Inputs:\n",
    "        distancia (int): distancia dada em quilometros\n",
    "    Return:\n",
    "        group (str): grupo em que a distância pertence\n",
    "    \"\"\"\n",
    "    if distancia<25:\n",
    "        return 'Menos de 25 km'\n",
    "    elif distancia<50:\n",
    "        return 'Entre 25 e 50 km'\n",
    "    elif distancia<75:\n",
    "        return 'Entre 50 e 75 km'\n",
    "    elif distancia<100:\n",
    "        return 'Entre 75 e 100 km'\n",
    "    else:\n",
    "        return 'Acima de 100 km'\n",
    "# Mapeando distância por grupo\n",
    "dtrain['GrupoDistancia'] = dtrain.Distancia\n",
    "dtrain.GrupoDistancia = dtrain.GrupoDistancia.apply(dist_group)\n",
    "\n",
    "# Pegando as variáveis finais para clusterizar\n",
    "dfinal = dtrain[['Seguro','ValorSEG','Renda','Idade','Distancia','Sexo','GrupoRenda']]"
   ]
  },
  {
   "cell_type": "code",
   "execution_count": 5,
   "metadata": {},
   "outputs": [
    {
     "data": {
      "text/html": [
       "<div>\n",
       "<style>\n",
       "    .dataframe thead tr:only-child th {\n",
       "        text-align: right;\n",
       "    }\n",
       "\n",
       "    .dataframe thead th {\n",
       "        text-align: left;\n",
       "    }\n",
       "\n",
       "    .dataframe tbody tr th {\n",
       "        vertical-align: top;\n",
       "    }\n",
       "</style>\n",
       "<table border=\"1\" class=\"dataframe\">\n",
       "  <thead>\n",
       "    <tr style=\"text-align: right;\">\n",
       "      <th></th>\n",
       "      <th>Seguro</th>\n",
       "      <th>ValorSEG</th>\n",
       "      <th>Renda</th>\n",
       "      <th>Idade</th>\n",
       "      <th>Distancia</th>\n",
       "      <th>Sexo</th>\n",
       "      <th>GrupoRenda</th>\n",
       "    </tr>\n",
       "  </thead>\n",
       "  <tbody>\n",
       "    <tr>\n",
       "      <th>0</th>\n",
       "      <td>CASA</td>\n",
       "      <td>31.22</td>\n",
       "      <td>3394.49</td>\n",
       "      <td>49</td>\n",
       "      <td>5.600</td>\n",
       "      <td>Masculino</td>\n",
       "      <td>De 3 a 5 Salários Mínimos</td>\n",
       "    </tr>\n",
       "    <tr>\n",
       "      <th>1</th>\n",
       "      <td>CASA</td>\n",
       "      <td>24.38</td>\n",
       "      <td>6409.31</td>\n",
       "      <td>74</td>\n",
       "      <td>5.716</td>\n",
       "      <td>Masculino</td>\n",
       "      <td>De 5 a 10 Salários Mínimos</td>\n",
       "    </tr>\n",
       "    <tr>\n",
       "      <th>2</th>\n",
       "      <td>VIDA</td>\n",
       "      <td>9.56</td>\n",
       "      <td>3566.85</td>\n",
       "      <td>25</td>\n",
       "      <td>2.155</td>\n",
       "      <td>Masculino</td>\n",
       "      <td>De 3 a 5 Salários Mínimos</td>\n",
       "    </tr>\n",
       "    <tr>\n",
       "      <th>4</th>\n",
       "      <td>VIDA</td>\n",
       "      <td>33.14</td>\n",
       "      <td>4370.26</td>\n",
       "      <td>41</td>\n",
       "      <td>56.656</td>\n",
       "      <td>Feminino</td>\n",
       "      <td>De 3 a 5 Salários Mínimos</td>\n",
       "    </tr>\n",
       "    <tr>\n",
       "      <th>5</th>\n",
       "      <td>CASA</td>\n",
       "      <td>14.31</td>\n",
       "      <td>4000.00</td>\n",
       "      <td>54</td>\n",
       "      <td>54.868</td>\n",
       "      <td>Masculino</td>\n",
       "      <td>De 3 a 5 Salários Mínimos</td>\n",
       "    </tr>\n",
       "    <tr>\n",
       "      <th>6</th>\n",
       "      <td>CASA</td>\n",
       "      <td>32.45</td>\n",
       "      <td>22000.00</td>\n",
       "      <td>44</td>\n",
       "      <td>6.226</td>\n",
       "      <td>Feminino</td>\n",
       "      <td>Acima de 20 Salários Mínimos</td>\n",
       "    </tr>\n",
       "    <tr>\n",
       "      <th>7</th>\n",
       "      <td>PRESTAMISTA</td>\n",
       "      <td>0.00</td>\n",
       "      <td>6320.00</td>\n",
       "      <td>31</td>\n",
       "      <td>5.312</td>\n",
       "      <td>Masculino</td>\n",
       "      <td>De 5 a 10 Salários Mínimos</td>\n",
       "    </tr>\n",
       "    <tr>\n",
       "      <th>8</th>\n",
       "      <td>VIDA</td>\n",
       "      <td>21.25</td>\n",
       "      <td>5741.40</td>\n",
       "      <td>49</td>\n",
       "      <td>3.865</td>\n",
       "      <td>Masculino</td>\n",
       "      <td>De 5 a 10 Salários Mínimos</td>\n",
       "    </tr>\n",
       "    <tr>\n",
       "      <th>9</th>\n",
       "      <td>CASA</td>\n",
       "      <td>3.91</td>\n",
       "      <td>1722.75</td>\n",
       "      <td>58</td>\n",
       "      <td>11.341</td>\n",
       "      <td>Masculino</td>\n",
       "      <td>De 1 a 2 Salários Mínimos</td>\n",
       "    </tr>\n",
       "    <tr>\n",
       "      <th>10</th>\n",
       "      <td>CASA</td>\n",
       "      <td>24.65</td>\n",
       "      <td>1700.00</td>\n",
       "      <td>20</td>\n",
       "      <td>17.920</td>\n",
       "      <td>Masculino</td>\n",
       "      <td>De 1 a 2 Salários Mínimos</td>\n",
       "    </tr>\n",
       "  </tbody>\n",
       "</table>\n",
       "</div>"
      ],
      "text/plain": [
       "         Seguro  ValorSEG     Renda  Idade  Distancia       Sexo  \\\n",
       "0          CASA     31.22   3394.49     49      5.600  Masculino   \n",
       "1          CASA     24.38   6409.31     74      5.716  Masculino   \n",
       "2          VIDA      9.56   3566.85     25      2.155  Masculino   \n",
       "4          VIDA     33.14   4370.26     41     56.656   Feminino   \n",
       "5          CASA     14.31   4000.00     54     54.868  Masculino   \n",
       "6          CASA     32.45  22000.00     44      6.226   Feminino   \n",
       "7   PRESTAMISTA      0.00   6320.00     31      5.312  Masculino   \n",
       "8          VIDA     21.25   5741.40     49      3.865  Masculino   \n",
       "9          CASA      3.91   1722.75     58     11.341  Masculino   \n",
       "10         CASA     24.65   1700.00     20     17.920  Masculino   \n",
       "\n",
       "                      GrupoRenda  \n",
       "0      De 3 a 5 Salários Mínimos  \n",
       "1     De 5 a 10 Salários Mínimos  \n",
       "2      De 3 a 5 Salários Mínimos  \n",
       "4      De 3 a 5 Salários Mínimos  \n",
       "5      De 3 a 5 Salários Mínimos  \n",
       "6   Acima de 20 Salários Mínimos  \n",
       "7     De 5 a 10 Salários Mínimos  \n",
       "8     De 5 a 10 Salários Mínimos  \n",
       "9      De 1 a 2 Salários Mínimos  \n",
       "10     De 1 a 2 Salários Mínimos  "
      ]
     },
     "execution_count": 5,
     "metadata": {},
     "output_type": "execute_result"
    }
   ],
   "source": [
    "dfinal.head(10)"
   ]
  },
  {
   "cell_type": "code",
   "execution_count": 6,
   "metadata": {},
   "outputs": [],
   "source": [
    "lista = list(dfinal.groupby('Seguro'))\n",
    "train_casa = lista[0][1]\n",
    "train_casa = train_casa.drop([1764, 2084,474, 1239, 3158, 3277, 4110, 4362, 5125, 5285, 5312])\n",
    "train_casa.drop('Seguro', axis=1, inplace=True)\n",
    "sexo_casa = train_casa.Sexo\n",
    "sexo_casa = pd.DataFrame(data=sexo_casa)\n",
    "sexo_casa = sexo_casa.reset_index()\n",
    "renda_casa = train_casa.GrupoRenda\n",
    "renda_casa = pd.DataFrame(data=renda_casa)\n",
    "renda_casa = renda_casa.reset_index()\n",
    "train_casa.drop('Sexo', axis=1, inplace=True)\n",
    "train_casa.drop('GrupoRenda', axis=1, inplace=True)\n",
    "train_presta = lista[1][1]\n",
    "train_presta.drop('Seguro', axis=1, inplace=True)\n",
    "train_presta.drop('Sexo', axis=1, inplace=True)\n",
    "train_presta.drop('GrupoRenda', axis=1, inplace=True)\n",
    "train_vida = lista[2][1]\n",
    "sexo_vida = train_vida.Sexo\n",
    "sexo_vida = pd.DataFrame(data=sexo_vida)\n",
    "sexo_vida = sexo_vida.reset_index()\n",
    "renda_vida = train_vida.GrupoRenda\n",
    "renda_vida = pd.DataFrame(data=renda_vida)\n",
    "renda_vida = renda_vida.reset_index()\n",
    "train_vida.drop('Sexo', axis=1, inplace=True)\n",
    "train_vida.drop('GrupoRenda', axis=1, inplace=True)\n",
    "train_vida.drop('Seguro', axis=1, inplace=True)"
   ]
  },
  {
   "cell_type": "code",
   "execution_count": 7,
   "metadata": {},
   "outputs": [
    {
     "data": {
      "text/html": [
       "<div>\n",
       "<style>\n",
       "    .dataframe thead tr:only-child th {\n",
       "        text-align: right;\n",
       "    }\n",
       "\n",
       "    .dataframe thead th {\n",
       "        text-align: left;\n",
       "    }\n",
       "\n",
       "    .dataframe tbody tr th {\n",
       "        vertical-align: top;\n",
       "    }\n",
       "</style>\n",
       "<table border=\"1\" class=\"dataframe\">\n",
       "  <thead>\n",
       "    <tr style=\"text-align: right;\">\n",
       "      <th></th>\n",
       "      <th>ValorSEG</th>\n",
       "      <th>Renda</th>\n",
       "      <th>Idade</th>\n",
       "      <th>Distancia</th>\n",
       "    </tr>\n",
       "  </thead>\n",
       "  <tbody>\n",
       "    <tr>\n",
       "      <th>0</th>\n",
       "      <td>31.22</td>\n",
       "      <td>3394.49</td>\n",
       "      <td>49</td>\n",
       "      <td>5.600000</td>\n",
       "    </tr>\n",
       "    <tr>\n",
       "      <th>1</th>\n",
       "      <td>24.38</td>\n",
       "      <td>6409.31</td>\n",
       "      <td>74</td>\n",
       "      <td>5.716000</td>\n",
       "    </tr>\n",
       "    <tr>\n",
       "      <th>5</th>\n",
       "      <td>14.31</td>\n",
       "      <td>4000.00</td>\n",
       "      <td>54</td>\n",
       "      <td>54.868000</td>\n",
       "    </tr>\n",
       "    <tr>\n",
       "      <th>6</th>\n",
       "      <td>32.45</td>\n",
       "      <td>22000.00</td>\n",
       "      <td>44</td>\n",
       "      <td>6.226000</td>\n",
       "    </tr>\n",
       "    <tr>\n",
       "      <th>9</th>\n",
       "      <td>3.91</td>\n",
       "      <td>1722.75</td>\n",
       "      <td>58</td>\n",
       "      <td>11.341000</td>\n",
       "    </tr>\n",
       "    <tr>\n",
       "      <th>10</th>\n",
       "      <td>24.65</td>\n",
       "      <td>1700.00</td>\n",
       "      <td>20</td>\n",
       "      <td>17.920000</td>\n",
       "    </tr>\n",
       "    <tr>\n",
       "      <th>11</th>\n",
       "      <td>14.31</td>\n",
       "      <td>2520.08</td>\n",
       "      <td>40</td>\n",
       "      <td>31.679774</td>\n",
       "    </tr>\n",
       "    <tr>\n",
       "      <th>12</th>\n",
       "      <td>22.33</td>\n",
       "      <td>1535.26</td>\n",
       "      <td>42</td>\n",
       "      <td>31.679774</td>\n",
       "    </tr>\n",
       "    <tr>\n",
       "      <th>13</th>\n",
       "      <td>32.45</td>\n",
       "      <td>18000.00</td>\n",
       "      <td>39</td>\n",
       "      <td>41.712000</td>\n",
       "    </tr>\n",
       "    <tr>\n",
       "      <th>14</th>\n",
       "      <td>27.08</td>\n",
       "      <td>3350.00</td>\n",
       "      <td>48</td>\n",
       "      <td>12.531000</td>\n",
       "    </tr>\n",
       "  </tbody>\n",
       "</table>\n",
       "</div>"
      ],
      "text/plain": [
       "    ValorSEG     Renda  Idade  Distancia\n",
       "0      31.22   3394.49     49   5.600000\n",
       "1      24.38   6409.31     74   5.716000\n",
       "5      14.31   4000.00     54  54.868000\n",
       "6      32.45  22000.00     44   6.226000\n",
       "9       3.91   1722.75     58  11.341000\n",
       "10     24.65   1700.00     20  17.920000\n",
       "11     14.31   2520.08     40  31.679774\n",
       "12     22.33   1535.26     42  31.679774\n",
       "13     32.45  18000.00     39  41.712000\n",
       "14     27.08   3350.00     48  12.531000"
      ]
     },
     "execution_count": 7,
     "metadata": {},
     "output_type": "execute_result"
    }
   ],
   "source": [
    "train_casa.head(10)"
   ]
  },
  {
   "cell_type": "code",
   "execution_count": 8,
   "metadata": {
    "collapsed": true
   },
   "outputs": [],
   "source": [
    "#train_casa = train_casa.drop([1764, 2084,474, 1239, 3158, 3277, 4110, 4362, 5125, 5285, 5312])"
   ]
  },
  {
   "cell_type": "markdown",
   "metadata": {},
   "source": [
    "### Separando os dados por tipo de seguro\n",
    "Será retirado os dados pelo tipo de seguro de cada cliente, de modo a traçar os perfis dos consumidores de seguro de casa e dos de seguro de vida (prestamistas não pagam seguro, não havendo interesse nesse caso)."
   ]
  },
  {
   "cell_type": "markdown",
   "metadata": {},
   "source": [
    "### Clustering via K-Means\n",
    "Fase de clusterização, no qual os dados serão normalizados e depois será utilizado o algoritmo do K-Means para a clusterização."
   ]
  },
  {
   "cell_type": "code",
   "execution_count": 9,
   "metadata": {},
   "outputs": [
    {
     "data": {
      "image/png": "[encoded data removed]",
      "text/plain": [
       "<matplotlib.figure.Figure at 0x7fc279152eb8>"
      ]
     },
     "metadata": {},
     "output_type": "display_data"
    }
   ],
   "source": [
    "# Normalizando os dados\n",
    "sc_casa = StandardScaler().fit(train_casa)\n",
    "train_casa = sc_casa.transform(train_casa)\n",
    "sc_vida = StandardScaler().fit(train_vida)\n",
    "train_vida = sc_vida.transform(train_vida)\n",
    "\n",
    "\n",
    "'''Using the elbow method to find graphically the optimal number of clusters\n",
    "    Parameters:\n",
    "        wcss (float): Sum of squared distances of samples to their closest cluster center.\n",
    "        n_clusters (int): number of clusters\n",
    "'''\n",
    "\n",
    "# Subplot para o seguro de casa:\n",
    "fig, (ax1,ax2) = plt.subplots(1,2,figsize=(15,5),sharey=True)\n",
    "wcss_casa = []\n",
    "for i in range(1, 11):\n",
    "    kmeans = KMeans(n_clusters = i, init = 'k-means++', random_state = 0)\n",
    "    kmeans.fit(train_casa)\n",
    "    wcss_casa.append(kmeans.inertia_)\n",
    "ax1.plot(range(1, 11), wcss_casa)\n",
    "ax1.set_title('The Elbow Method - Seguro Casa')\n",
    "ax1.set_xlabel('Number of clusters')\n",
    "ax1.set_ylabel('WCSS')\n",
    "\n",
    "# Subplot para o seguro de Vida:\n",
    "wcss_vida = []\n",
    "for i in range(1, 11):\n",
    "    kmeans = KMeans(n_clusters = i, init = 'k-means++', random_state = 0)\n",
    "    kmeans.fit(train_vida)\n",
    "    wcss_vida.append(kmeans.inertia_)\n",
    "ax2.plot(range(1, 11), wcss_vida)\n",
    "ax2.set_title('The Elbow Method - Seguro Vida')\n",
    "ax2.set_xlabel('Number of clusters')\n",
    "ax2.set_ylabel('WCSS')\n",
    "plt.show()"
   ]
  },
  {
   "cell_type": "markdown",
   "metadata": {},
   "source": [
    "### Seguro de casa:"
   ]
  },
  {
   "cell_type": "code",
   "execution_count": 10,
   "metadata": {},
   "outputs": [
    {
     "name": "stdout",
     "output_type": "stream",
     "text": [
      "Correlação das variáveis:\n",
      " ValorSEG    -0.420417\n",
      "Renda       -0.069512\n",
      "Idade       -0.520441\n",
      "Distancia    0.231797\n",
      "Grupo        1.000000\n",
      "Name: Grupo, dtype: float64 \n",
      "\n",
      "Total de pessoas por grupo:\n",
      " 4    798\n",
      "1    776\n",
      "0    477\n",
      "3    346\n",
      "2     55\n",
      "Name: Grupo, dtype: int64 \n",
      "\n",
      "Valores médios por grupo:\n",
      "          ValorSEG         Renda      Idade  Distancia\n",
      "Grupo                                                \n",
      "0      540.022138   3770.538470  46.893082  21.757419\n",
      "1      196.885361   2917.820825  59.485825  16.547210\n",
      "2      412.245818  21402.717455  48.436364  22.609016\n",
      "3      251.789480   3249.220780  48.554913  58.771540\n",
      "4      217.677293   2810.953947  35.916040  22.783674 \n",
      "\n",
      "Valores medianos por grupo:\n",
      "        ValorSEG      Renda  Idade  Distancia\n",
      "Grupo                                       \n",
      "0        494.52   3005.000     47    20.4410\n",
      "1        172.32   2364.880     58    12.5550\n",
      "2        389.40  18556.000     46    14.6020\n",
      "3        267.96   2500.000     48    56.8845\n",
      "4        222.48   2224.095     36    25.1715 \n",
      "\n",
      "Erro de desvio por grupo:\n",
      "          ValorSEG        Renda      Idade  Distancia\n",
      "Grupo                                               \n",
      "0      140.057569  2614.339938  10.890551  13.361028\n",
      "1      109.301340  1918.706978   8.361034  10.602554\n",
      "2      220.414782  8560.576755  10.932052  25.837852\n",
      "3      133.748423  2319.768119  12.467169  21.799218\n",
      "4      107.457170  1867.870219   7.041673  11.472938 \n",
      "\n"
     ]
    }
   ],
   "source": [
    "# Fitting K-Means to the dataset\n",
    "# Seguro de casa:\n",
    "kmeans = KMeans(n_clusters = 5, init = 'k-means++', random_state = 0)\n",
    "resultado = kmeans.fit_predict(train_casa)\n",
    "grupos = pd.DataFrame(data=resultado, columns = {'Grupo': '0'})\n",
    "#sexo_casa = pd.DataFrame(data=sexo_casa, columns = {'Sexo': '0'})\n",
    "train_casa = sc_casa.inverse_transform(train_casa)\n",
    "train_casa = pd.DataFrame(data=train_casa, columns=list(train_presta.columns))\n",
    "train_casa = train_casa.join(grupos)\n",
    "train_casa['Sexo'] = sexo_casa['Sexo']\n",
    "train_casa['GrupoRenda'] = renda_casa['GrupoRenda']\n",
    "train_casa.Idade = train_casa.Idade.astype(int)\n",
    "train_casa.ValorSEG = train_casa.ValorSEG * 12\n",
    "\n",
    "print('Correlação das variáveis:\\n',train_casa.corr().Grupo,'\\n')\n",
    "print('Total de pessoas por grupo:\\n',train_casa.Grupo.value_counts(),'\\n')\n",
    "print('Valores médios por grupo:\\n',train_casa.groupby('Grupo').mean(),'\\n')\n",
    "print('Valores medianos por grupo:\\n',train_casa.groupby('Grupo').median(),'\\n')\n",
    "print('Erro de desvio por grupo:\\n',train_casa.groupby('Grupo').std(),'\\n')\n",
    "# perfil_casa_medio = train_casa.groupby('Grupo').mean()\n",
    "# total_casa = train_casa.Grupo.value_counts()\n",
    "# perfil_casa_medio['TotalSEG'] = total_casa\n",
    "# perfil_casa_medio['Valor_Total'] = perfil_casa_medio['TotalSEG'] * perfil_casa_medio['ValorSEG']\n",
    "# perfil_casa_erro = train_casa.groupby('Grupo').std()"
   ]
  },
  {
   "cell_type": "markdown",
   "metadata": {},
   "source": [
    "#### Grupo 0 - Alto valor de seguro"
   ]
  },
  {
   "cell_type": "code",
   "execution_count": 11,
   "metadata": {},
   "outputs": [
    {
     "name": "stdout",
     "output_type": "stream",
     "text": [
      "Total de pessoas:  477\n",
      "Total de faturamento: R$257590.56\n"
     ]
    },
    {
     "data": {
      "text/html": [
       "<script>\n",
       "code_show=true; \n",
       "function code_toggle() {\n",
       "    if (code_show){\n",
       "        $('div.cell.code_cell.rendered.selected div.input').hide();\n",
       "    } else {\n",
       "        $('div.cell.code_cell.rendered.selected div.input').show();\n",
       "    }\n",
       "    code_show = !code_show\n",
       "} \n",
       "\n",
       "$( document ).ready(code_toggle);\n",
       "</script>\n",
       "\n",
       "To show/hide this cell's raw code input, click <a href=\"javascript:code_toggle()\">here</a>."
      ],
      "text/plain": [
       "<IPython.core.display.HTML object>"
      ]
     },
     "execution_count": 11,
     "metadata": {},
     "output_type": "execute_result"
    }
   ],
   "source": [
    "casa_0 = train_casa[['Renda','Idade','ValorSEG','Distancia','Sexo','GrupoRenda']].loc[train_casa.Grupo==0]\n",
    "casa_0['GrupoIdade'] = casa_0.Idade\n",
    "casa_0.GrupoIdade = casa_0.GrupoIdade.apply(age_group)\n",
    "casa_0['GrupoDist'] = casa_0.Distancia\n",
    "casa_0.GrupoDist = casa_0.GrupoDist.apply(dist_group)\n",
    "casa_0['GrupoValor'] = casa_0.ValorSEG\n",
    "casa_0.GrupoValor = casa_0.GrupoValor.apply(valor_group)\n",
    "print('Total de pessoas: ', casa_0.shape[0])\n",
    "print('Total de faturamento: R$%.2f' % (casa_0.ValorSEG.sum()))\n",
    "\n",
    "HTML('''<script>\n",
    "code_show=true; \n",
    "function code_toggle() {\n",
    "    if (code_show){\n",
    "        $('div.cell.code_cell.rendered.selected div.input').hide();\n",
    "    } else {\n",
    "        $('div.cell.code_cell.rendered.selected div.input').show();\n",
    "    }\n",
    "    code_show = !code_show\n",
    "} \n",
    "\n",
    "$( document ).ready(code_toggle);\n",
    "</script>\n",
    "\n",
    "To show/hide this cell's raw code input, click <a href=\"javascript:code_toggle()\">here</a>.''')"
   ]
  },
  {
   "cell_type": "code",
   "execution_count": null,
   "metadata": {
    "collapsed": true
   },
   "outputs": [],
   "source": []
  },
  {
   "cell_type": "code",
   "execution_count": 12,
   "metadata": {},
   "outputs": [
    {
     "name": "stdout",
     "output_type": "stream",
     "text": [
      "Relação de renda:\n"
     ]
    },
    {
     "data": {
      "image/png": "[encoded data removed]",
      "text/plain": [
       "<matplotlib.figure.Figure at 0x7fc279088978>"
      ]
     },
     "metadata": {},
     "output_type": "display_data"
    },
    {
     "name": "stdout",
     "output_type": "stream",
     "text": [
      "A renda do grupo varia entre 1 e 6 salários mínimos, sendo a maior\n",
      "parte concentrada em torno de R$3005.00 (3 salários mínimos).\n"
     ]
    },
    {
     "data": {
      "text/html": [
       "<script>\n",
       "code_show=true; \n",
       "function code_toggle() {\n",
       "    if (code_show){\n",
       "        $('div.cell.code_cell.rendered.selected div.input').hide();\n",
       "    } else {\n",
       "        $('div.cell.code_cell.rendered.selected div.input').show();\n",
       "    }\n",
       "    code_show = !code_show\n",
       "} \n",
       "\n",
       "$( document ).ready(code_toggle);\n",
       "</script>\n",
       "\n",
       "To show/hide this cell's raw code input, click <a href=\"javascript:code_toggle()\">here</a>."
      ],
      "text/plain": [
       "<IPython.core.display.HTML object>"
      ]
     },
     "execution_count": 12,
     "metadata": {},
     "output_type": "execute_result"
    }
   ],
   "source": [
    "print('Relação de renda:')\n",
    "fig, [ax1,ax2] = plt.subplots(2,1)\n",
    "fig.set_size_inches(15, 8)\n",
    "sns.barplot(pd.DataFrame(casa_0.GrupoRenda.value_counts()).index.values,casa_0.GrupoRenda.value_counts(),ax=ax2)\n",
    "sns.distplot(train_casa.Renda, kde=False, rug=False, bins = 100,ax=ax1)\n",
    "plt.show()\n",
    "print('A renda do grupo varia entre %d e %d salários mínimos, sendo a maior' % ((casa_0.Renda.mean()-casa_0.Renda.std())/937,(casa_0.Renda.mean()+casa_0.Renda.std())/937))\n",
    "print('parte concentrada em torno de R$%.2f (%d salários mínimos).' % (casa_0.Renda.median(),casa_0.Renda.median()/937))\n",
    "\n",
    "HTML('''<script>\n",
    "code_show=true; \n",
    "function code_toggle() {\n",
    "    if (code_show){\n",
    "        $('div.cell.code_cell.rendered.selected div.input').hide();\n",
    "    } else {\n",
    "        $('div.cell.code_cell.rendered.selected div.input').show();\n",
    "    }\n",
    "    code_show = !code_show\n",
    "} \n",
    "\n",
    "$( document ).ready(code_toggle);\n",
    "</script>\n",
    "\n",
    "To show/hide this cell's raw code input, click <a href=\"javascript:code_toggle()\">here</a>.''')"
   ]
  },
  {
   "cell_type": "code",
   "execution_count": 13,
   "metadata": {},
   "outputs": [
    {
     "name": "stdout",
     "output_type": "stream",
     "text": [
      "\n",
      "Relação da Idade:\n"
     ]
    },
    {
     "data": {
      "image/png": "[encoded data removed]",
      "text/plain": [
       "<matplotlib.figure.Figure at 0x7fc279088c18>"
      ]
     },
     "metadata": {},
     "output_type": "display_data"
    },
    {
     "name": "stdout",
     "output_type": "stream",
     "text": [
      "A idade do grupo varia entre 36 e 57, sendo a maior\n",
      "parte concentrada em torno de 47 anos.\n"
     ]
    },
    {
     "data": {
      "text/html": [
       "<script>\n",
       "code_show=true; \n",
       "function code_toggle() {\n",
       "    if (code_show){\n",
       "        $('div.cell.code_cell.rendered.selected div.input').hide();\n",
       "    } else {\n",
       "        $('div.cell.code_cell.rendered.selected div.input').show();\n",
       "    }\n",
       "    code_show = !code_show\n",
       "} \n",
       "\n",
       "$( document ).ready(code_toggle);\n",
       "</script>\n",
       "\n",
       "To show/hide this cell's raw code input, click <a href=\"javascript:code_toggle()\">here</a>."
      ],
      "text/plain": [
       "<IPython.core.display.HTML object>"
      ]
     },
     "execution_count": 13,
     "metadata": {},
     "output_type": "execute_result"
    }
   ],
   "source": [
    "print('\\nRelação da Idade:')\n",
    "fig, [ax1,ax2] = plt.subplots(2,1)\n",
    "fig.set_size_inches(15, 8)\n",
    "sns.barplot(pd.DataFrame(casa_0.GrupoIdade.value_counts()).index.values,casa_0.GrupoIdade.value_counts(),ax=ax2)\n",
    "sns.distplot(train_casa.Idade, kde=False, rug=False, bins = 100,ax=ax1)\n",
    "plt.show()\n",
    "print('A idade do grupo varia entre %d e %d, sendo a maior' % ((casa_0.Idade.mean()-casa_0.Idade.std()),(casa_0.Idade.mean()+casa_0.Idade.std())))\n",
    "print('parte concentrada em torno de %d anos.' % (casa_0.Idade.median()))\n",
    "\n",
    "HTML('''<script>\n",
    "code_show=true; \n",
    "function code_toggle() {\n",
    "    if (code_show){\n",
    "        $('div.cell.code_cell.rendered.selected div.input').hide();\n",
    "    } else {\n",
    "        $('div.cell.code_cell.rendered.selected div.input').show();\n",
    "    }\n",
    "    code_show = !code_show\n",
    "} \n",
    "\n",
    "$( document ).ready(code_toggle);\n",
    "</script>\n",
    "\n",
    "To show/hide this cell's raw code input, click <a href=\"javascript:code_toggle()\">here</a>.''')"
   ]
  },
  {
   "cell_type": "code",
   "execution_count": null,
   "metadata": {
    "collapsed": true
   },
   "outputs": [],
   "source": []
  },
  {
   "cell_type": "code",
   "execution_count": 14,
   "metadata": {},
   "outputs": [
    {
     "name": "stdout",
     "output_type": "stream",
     "text": [
      "\n",
      "Relação da Distância:\n"
     ]
    },
    {
     "data": {
      "image/png": "[encoded data removed]",
      "text/plain": [
       "<matplotlib.figure.Figure at 0x7fc278ea6940>"
      ]
     },
     "metadata": {},
     "output_type": "display_data"
    },
    {
     "name": "stdout",
     "output_type": "stream",
     "text": [
      "A distância entre a agência e o endereço do grupo varia entre 8.40 e 35.12 quilometros, sendo a maior\n",
      "parte concentrada em torno de 31.68 km.\n"
     ]
    },
    {
     "data": {
      "text/html": [
       "<script>\n",
       "code_show=true; \n",
       "function code_toggle() {\n",
       "    if (code_show){\n",
       "        $('div.cell.code_cell.rendered.selected div.input').hide();\n",
       "    } else {\n",
       "        $('div.cell.code_cell.rendered.selected div.input').show();\n",
       "    }\n",
       "    code_show = !code_show\n",
       "} \n",
       "\n",
       "$( document ).ready(code_toggle);\n",
       "</script>\n",
       "\n",
       "To show/hide this cell's raw code input, click <a href=\"javascript:code_toggle()\">here</a>."
      ],
      "text/plain": [
       "<IPython.core.display.HTML object>"
      ]
     },
     "execution_count": 14,
     "metadata": {},
     "output_type": "execute_result"
    }
   ],
   "source": [
    "print('\\nRelação da Distância:')\n",
    "fig, [ax1,ax2] = plt.subplots(2,1)\n",
    "fig.set_size_inches(15, 8)\n",
    "sns.barplot(pd.DataFrame(casa_0.GrupoDist.value_counts()).index.values,casa_0.GrupoDist.value_counts(),ax=ax2)\n",
    "sns.distplot(train_casa.Distancia, kde=False, rug=False, bins = 200, ax=ax1)\n",
    "plt.show()\n",
    "print('A distância entre a agência e o endereço do grupo varia entre %.2f e %.2f quilometros, sendo a maior' % ((casa_0.Distancia.mean()-casa_0.Distancia.std()),(casa_0.Distancia.mean()+casa_0.Distancia.std())))\n",
    "print('parte concentrada em torno de %.2f km.' % (pd.DataFrame(casa_0.Distancia.value_counts()).index.values[0]))\n",
    "\n",
    "HTML('''<script>\n",
    "code_show=true; \n",
    "function code_toggle() {\n",
    "    if (code_show){\n",
    "        $('div.cell.code_cell.rendered.selected div.input').hide();\n",
    "    } else {\n",
    "        $('div.cell.code_cell.rendered.selected div.input').show();\n",
    "    }\n",
    "    code_show = !code_show\n",
    "} \n",
    "\n",
    "$( document ).ready(code_toggle);\n",
    "</script>\n",
    "\n",
    "To show/hide this cell's raw code input, click <a href=\"javascript:code_toggle()\">here</a>.''')"
   ]
  },
  {
   "cell_type": "code",
   "execution_count": null,
   "metadata": {
    "collapsed": true
   },
   "outputs": [],
   "source": []
  },
  {
   "cell_type": "code",
   "execution_count": 15,
   "metadata": {},
   "outputs": [
    {
     "name": "stdout",
     "output_type": "stream",
     "text": [
      "\n",
      "Relação do Valor de Seguro:\n"
     ]
    },
    {
     "data": {
      "image/png": "[encoded data removed]",
      "text/plain": [
       "<matplotlib.figure.Figure at 0x7fc278dc8518>"
      ]
     },
     "metadata": {},
     "output_type": "display_data"
    },
    {
     "name": "stdout",
     "output_type": "stream",
     "text": [
      "O valor de seguro do grupo gira entre R$399.96 e R$680.08, sendo a maior\n",
      "parte concentrada em torno de R$494.52.\n"
     ]
    },
    {
     "data": {
      "text/html": [
       "<script>\n",
       "code_show=true; \n",
       "function code_toggle() {\n",
       "    if (code_show){\n",
       "        $('div.cell.code_cell.rendered.selected div.input').hide();\n",
       "    } else {\n",
       "        $('div.cell.code_cell.rendered.selected div.input').show();\n",
       "    }\n",
       "    code_show = !code_show\n",
       "} \n",
       "\n",
       "$( document ).ready(code_toggle);\n",
       "</script>\n",
       "\n",
       "To show/hide this cell's raw code input, click <a href=\"javascript:code_toggle()\">here</a>."
      ],
      "text/plain": [
       "<IPython.core.display.HTML object>"
      ]
     },
     "execution_count": 15,
     "metadata": {},
     "output_type": "execute_result"
    }
   ],
   "source": [
    "print('\\nRelação do Valor de Seguro:')\n",
    "fig, [ax1,ax2] = plt.subplots(2,1)\n",
    "fig.set_size_inches(15, 8)\n",
    "sns.barplot(pd.DataFrame(casa_0.GrupoValor.value_counts()).index.values,casa_0.GrupoValor.value_counts(),ax=ax2)\n",
    "sns.distplot(train_casa.ValorSEG, kde=False, rug=False, bins = 100,ax=ax1)\n",
    "plt.show()\n",
    "print('O valor de seguro do grupo gira entre R$%.2f e R$%.2f, sendo a maior' % ((casa_0.ValorSEG.mean()-casa_0.ValorSEG.std()),(casa_0.ValorSEG.mean()+casa_0.ValorSEG.std())))\n",
    "print('parte concentrada em torno de R$%.2f.' % (casa_0.ValorSEG.median()))\n",
    "\n",
    "HTML('''<script>\n",
    "code_show=true; \n",
    "function code_toggle() {\n",
    "    if (code_show){\n",
    "        $('div.cell.code_cell.rendered.selected div.input').hide();\n",
    "    } else {\n",
    "        $('div.cell.code_cell.rendered.selected div.input').show();\n",
    "    }\n",
    "    code_show = !code_show\n",
    "} \n",
    "\n",
    "$( document ).ready(code_toggle);\n",
    "</script>\n",
    "\n",
    "To show/hide this cell's raw code input, click <a href=\"javascript:code_toggle()\">here</a>.''')"
   ]
  },
  {
   "cell_type": "code",
   "execution_count": null,
   "metadata": {
    "collapsed": true
   },
   "outputs": [],
   "source": []
  },
  {
   "cell_type": "code",
   "execution_count": 16,
   "metadata": {},
   "outputs": [
    {
     "name": "stdout",
     "output_type": "stream",
     "text": [
      "\n",
      "Relação do Sexo:\n"
     ]
    },
    {
     "data": {
      "image/png": "[encoded data removed]",
      "text/plain": [
       "<matplotlib.figure.Figure at 0x7fc278f9c518>"
      ]
     },
     "metadata": {},
     "output_type": "display_data"
    },
    {
     "data": {
      "text/html": [
       "<script>\n",
       "code_show=true; \n",
       "function code_toggle() {\n",
       "    if (code_show){\n",
       "        $('div.cell.code_cell.rendered.selected div.input').hide();\n",
       "    } else {\n",
       "        $('div.cell.code_cell.rendered.selected div.input').show();\n",
       "    }\n",
       "    code_show = !code_show\n",
       "} \n",
       "\n",
       "$( document ).ready(code_toggle);\n",
       "</script>\n",
       "\n",
       "To show/hide this cell's raw code input, click <a href=\"javascript:code_toggle()\">here</a>."
      ],
      "text/plain": [
       "<IPython.core.display.HTML object>"
      ]
     },
     "execution_count": 16,
     "metadata": {},
     "output_type": "execute_result"
    }
   ],
   "source": [
    "print('\\nRelação do Sexo:')\n",
    "sns.barplot(pd.DataFrame(casa_0.Sexo.value_counts()).index.values,casa_0.Sexo.value_counts())\n",
    "plt.show()\n",
    "\n",
    "HTML('''<script>\n",
    "code_show=true; \n",
    "function code_toggle() {\n",
    "    if (code_show){\n",
    "        $('div.cell.code_cell.rendered.selected div.input').hide();\n",
    "    } else {\n",
    "        $('div.cell.code_cell.rendered.selected div.input').show();\n",
    "    }\n",
    "    code_show = !code_show\n",
    "} \n",
    "\n",
    "$( document ).ready(code_toggle);\n",
    "</script>\n",
    "\n",
    "To show/hide this cell's raw code input, click <a href=\"javascript:code_toggle()\">here</a>.''')"
   ]
  },
  {
   "cell_type": "code",
   "execution_count": null,
   "metadata": {
    "collapsed": true
   },
   "outputs": [],
   "source": []
  },
  {
   "cell_type": "code",
   "execution_count": null,
   "metadata": {
    "collapsed": true
   },
   "outputs": [],
   "source": [
    "# perfil_casa = train_casa.groupby('Grupo').mean()\n",
    "# perfil_casa[['GrupoRenda','GrupoIdade','GrupoDistancia']] = train_casa.groupby('Grupo').median()[['GrupoRenda','GrupoIdade','GrupoDistancia']]\n",
    "# perfil_casa['TotalSEG'] = train_casa.Grupo.value_counts()\n",
    "# perfil_casa['Valor_Total'] = perfil_casa['TotalSEG'] * perfil_casa['ValorSEG']\n",
    "# perfil_casa\n",
    "train_casa.ValorSEG.max()"
   ]
  },
  {
   "cell_type": "code",
   "execution_count": null,
   "metadata": {},
   "outputs": [],
   "source": [
    "pd.DataFrame(train_casa.corr())"
   ]
  },
  {
   "cell_type": "markdown",
   "metadata": {},
   "source": [
    "### Seguro de vida:"
   ]
  },
  {
   "cell_type": "code",
   "execution_count": null,
   "metadata": {},
   "outputs": [],
   "source": [
    "# Fitting K-Means to the dataset\n",
    "# Seguro de vida:\n",
    "kmeans = KMeans(n_clusters = 5, init = 'k-means++', random_state = 0)\n",
    "resultado = kmeans.fit_predict(train_vida)\n",
    "grupos = pd.DataFrame(data=resultado, columns = {'Grupo': '0'})\n",
    "train_vida = sc_vida.inverse_transform(train_vida)\n",
    "train_vida = pd.DataFrame(data=train_vida, columns=list(train_presta.columns))\n",
    "train_vida = train_vida.join(grupos)\n",
    "#train_vida.Idade = train_vida.Idade.astype(int)\n",
    "\n",
    "print('Correlação das variáveis:\\n',train_vida.corr().Grupo,'\\n')\n",
    "print('Total de pessoas por grupo:\\n',train_vida.Grupo.value_counts(),'\\n')\n",
    "print('Valores médios por grupo:\\n',train_vida.groupby('Grupo').mean(),'\\n')\n",
    "print('Valores medianos por grupo:\\n',train_vida.groupby('Grupo').median(),'\\n')\n",
    "print('Erro de desvio por grupo:\\n',train_vida.groupby('Grupo').std(),'\\n')\n",
    "# perfil_vida_medio = train_vida.groupby('Grupo').mean()\n",
    "# total_vida = train_vida.Grupo.value_counts()\n",
    "# perfil_vida_medio['TotalSEG'] = total_vida\n",
    "# perfil_vida_medio['Valor_Total'] = perfil_vida_medio['TotalSEG'] * perfil_vida_medio['ValorSEG']\n",
    "# perfil_vida_erro = train_vida.groupby('Grupo').std()"
   ]
  },
  {
   "cell_type": "code",
   "execution_count": null,
   "metadata": {},
   "outputs": [],
   "source": [
    "# perfil_vida = train_vida.groupby('Grupo').mean()\n",
    "# perfil_vida[['GrupoRenda','GrupoIdade','GrupoDistancia']] = train_vida.groupby('Grupo').median()[['GrupoRenda','GrupoIdade','GrupoDistancia']]\n",
    "# perfil_vida['TotalSEG'] = train_vida.Grupo.value_counts()\n",
    "# perfil_vida['Valor_Total'] = perfil_vida['TotalSEG'] * perfil_vida['ValorSEG']\n",
    "# perfil_vida"
   ]
  },
  {
   "cell_type": "code",
   "execution_count": null,
   "metadata": {},
   "outputs": [],
   "source": [
    "pd.DataFrame(train_vida.corr())"
   ]
  },
  {
   "cell_type": "code",
   "execution_count": null,
   "metadata": {},
   "outputs": [],
   "source": [
    "# fig, ax = plt.subplots()\n",
    "# fig.set_size_inches(15, 8)\n",
    "# sns.regplot('Renda','ValorSEG',data=train_casa, fit_reg=False, ax=ax)\n",
    "# sns.regplot('Renda','ValorSEG',data=train_casa.loc[train_casa.Grupo==0], fit_reg=False, ax=ax, color='orange')\n",
    "# sns.regplot('Renda','ValorSEG',data=train_casa.loc[train_casa.Grupo==1], fit_reg=False, ax=ax, color='blue')\n",
    "# sns.regplot('Renda','ValorSEG',data=train_casa.loc[train_casa.Grupo==2], fit_reg=False, ax=ax, color='red')\n",
    "# sns.regplot('Renda','ValorSEG',data=train_casa.loc[train_casa.Grupo==3], fit_reg=False, ax=ax, color='green')\n",
    "# sns.regplot('Renda','ValorSEG',data=train_casa.loc[train_casa.Grupo==4], fit_reg=False, ax=ax, color='grey')\n",
    "# plt.show()"
   ]
  },
  {
   "cell_type": "code",
   "execution_count": null,
   "metadata": {},
   "outputs": [],
   "source": [
    "# fig, ax = plt.subplots()\n",
    "# fig.set_size_inches(15, 8)\n",
    "# sns.regplot('Idade','ValorSEG',data=train_casa, fit_reg=False, ax=ax)\n",
    "# sns.regplot('Idade','ValorSEG',data=train_casa.loc[train_casa.Grupo==0], fit_reg=False, ax=ax, color='orange')\n",
    "# sns.regplot('Idade','ValorSEG',data=train_casa.loc[train_casa.Grupo==1], fit_reg=False, ax=ax, color='blue')\n",
    "# sns.regplot('Idade','ValorSEG',data=train_casa.loc[train_casa.Grupo==2], fit_reg=False, ax=ax, color='red')\n",
    "# sns.regplot('Idade','ValorSEG',data=train_casa.loc[train_casa.Grupo==3], fit_reg=False, ax=ax, color='green')\n",
    "# sns.regplot('Idade','ValorSEG',data=train_casa.loc[train_casa.Grupo==4], fit_reg=False, ax=ax, color='grey')\n",
    "# plt.show()"
   ]
  },
  {
   "cell_type": "code",
   "execution_count": null,
   "metadata": {},
   "outputs": [],
   "source": [
    "# fig, ax = plt.subplots()\n",
    "# fig.set_size_inches(15, 8)\n",
    "# sns.regplot('Distancia','ValorSEG',data=train_casa, fit_reg=False, ax=ax)\n",
    "# sns.regplot('Distancia','ValorSEG',data=train_casa.loc[train_casa.Grupo==0], fit_reg=False, ax=ax, color='orange')\n",
    "# sns.regplot('Distancia','ValorSEG',data=train_casa.loc[train_casa.Grupo==1], fit_reg=False, ax=ax, color='blue')\n",
    "# sns.regplot('Distancia','ValorSEG',data=train_casa.loc[train_casa.Grupo==2], fit_reg=False, ax=ax, color='red')\n",
    "# sns.regplot('Distancia','ValorSEG',data=train_casa.loc[train_casa.Grupo==3], fit_reg=False, ax=ax, color='green')\n",
    "# sns.regplot('Distancia','ValorSEG',data=train_casa.loc[train_casa.Grupo==4], fit_reg=False, ax=ax, color='grey')\n",
    "# plt.show()"
   ]
  },
  {
   "cell_type": "code",
   "execution_count": null,
   "metadata": {},
   "outputs": [],
   "source": [
    "# fig, ax = plt.subplots()\n",
    "# fig.set_size_inches(15, 8)\n",
    "# sns.regplot('Renda','ValorSEG',data=train_casa.loc[train_casa.Grupo==2], fit_reg=False, ax=ax, color='red')\n",
    "# plt.show()"
   ]
  },
  {
   "cell_type": "code",
   "execution_count": null,
   "metadata": {},
   "outputs": [],
   "source": [
    "# fig, ax = plt.subplots()\n",
    "# fig.set_size_inches(15, 8)\n",
    "# sns.regplot('Renda','Idade',data=train_casa.loc[train_casa.Grupo==2], fit_reg=False, ax=ax, color='red')\n",
    "# plt.show()"
   ]
  },
  {
   "cell_type": "code",
   "execution_count": null,
   "metadata": {},
   "outputs": [],
   "source": [
    "# fig, ax = plt.subplots()\n",
    "# fig.set_size_inches(15, 8)\n",
    "# sns.regplot('Renda','Distancia',data=train_casa.loc[train_casa.Grupo==2], fit_reg=False, ax=ax, color='red')\n",
    "# plt.show()"
   ]
  },
  {
   "cell_type": "code",
   "execution_count": null,
   "metadata": {},
   "outputs": [],
   "source": [
    "# fig, ax = plt.subplots()\n",
    "# fig.set_size_inches(15, 8)\n",
    "# sns.regplot('Renda','Grupo',data=train_casa, fit_reg=False, ax=ax, color='red')\n",
    "# plt.show()"
   ]
  },
  {
   "cell_type": "code",
   "execution_count": null,
   "metadata": {
    "collapsed": true
   },
   "outputs": [],
   "source": []
  }
 ],
 "metadata": {
  "kernelspec": {
   "display_name": "Python 3",
   "language": "python",
   "name": "python3"
  },
  "language_info": {
   "codemirror_mode": {
    "name": "ipython",
    "version": 3
   },
   "file_extension": ".py",
   "mimetype": "text/x-python",
   "name": "python",
   "nbconvert_exporter": "python",
   "pygments_lexer": "ipython3",
   "version": "3.5.3"
  }
 },
 "nbformat": 4,
 "nbformat_minor": 2
}
